{
  "cells": [
    {
      "cell_type": "markdown",
      "metadata": {
        "id": "view-in-github",
        "colab_type": "text"
      },
      "source": [
        "<a href=\"https://colab.research.google.com/github/istrate-mihai/CakePHP-PatientCare-App/blob/main/ML4D2E%3B_07%3B_Matrices_and_vectors.ipynb\" target=\"_parent\"><img src=\"https://colab.research.google.com/assets/colab-badge.svg\" alt=\"Open In Colab\"/></a>"
      ]
    },
    {
      "cell_type": "markdown",
      "metadata": {
        "id": "bWJztE1BZlKv"
      },
      "source": [
        "# Working with Data"
      ]
    },
    {
      "cell_type": "markdown",
      "metadata": {
        "id": "WmMDSbPPZlKw"
      },
      "source": [
        "## Understanding scalar and vector operations"
      ]
    },
    {
      "cell_type": "code",
      "execution_count": 1,
      "metadata": {
        "id": "-JymcngUZlKw"
      },
      "outputs": [],
      "source": [
        "import numpy as np"
      ]
    },
    {
      "cell_type": "code",
      "source": [
        "# myInt = np.short(15)\n",
        "# print(myInt)\n",
        "# myArray = np.arange(1, 11, 2)\n",
        "# myArray\n",
        "# oneList = np.ones(4, dtype=np.int16)\n",
        "# oneList + 1\n",
        "# myCountList = np.array([1, 2, 3, 4])\n",
        "# myCountList + 1\n",
        "# 2 ** myCountList\n",
        "# a = np.array([True, False, True, False])\n",
        "# b = np.array([True, True, False, False])\n",
        "# np.logical_and(a, b)\n",
        "# np.logical_or(a, b)\n",
        "# np.logical_not(a, b)\n",
        "# np.logical_xor(a, b)\n",
        "# myVect = np.array([1, 2, 3, 4], dtype=np.int16)\n",
        "# myVect * myVect\n",
        "# np.multiply(myVect, myVect)\n",
        "# myVect.dot(myVect)\n",
        "# A = np.array([[1, 1], [1, 0]])\n",
        "# B = np.array([[1, 0], [0, 1]])\n",
        "# C = A - B\n",
        "# C * 2\n",
        "# y = Xb\n",
        "\n",
        "# X = np.array(\n",
        "#       [\n",
        "#         [4, 5],\n",
        "#         [2, 4],\n",
        "#         [3, 3]\n",
        "#       ]\n",
        "#     )\n",
        "\n",
        "# b = [3, -2]\n",
        "\n",
        "# print(X @ b)\n",
        "\n",
        "# sum([4*3, 5*-2]) # = 2\n",
        "# sum([2*3, 4*-2]) # = -2\n",
        "# sum([3*3, 3*-2]) # = 3\n",
        "\n",
        "# B = np.array(\n",
        "#       [\n",
        "#         [3, -2],\n",
        "#         [-2, 5]\n",
        "#       ]\n",
        "#     )\n",
        "\n",
        "# print(X @ B)\n",
        "\n",
        "#A = np.array([[1, 2, 3], [2, 3, 5], [7, 11, 13]])\n",
        "#A"
      ],
      "metadata": {
        "id": "EzWLtkSBc7tr"
      },
      "execution_count": 43,
      "outputs": []
    },
    {
      "cell_type": "code",
      "source": [
        "# A.transpose()"
      ],
      "metadata": {
        "colab": {
          "base_uri": "https://localhost:8080/"
        },
        "id": "X54YyBqBv1G7",
        "outputId": "b1b205b4-3688-4167-f544-5c51ccb25707"
      },
      "execution_count": 32,
      "outputs": [
        {
          "output_type": "execute_result",
          "data": {
            "text/plain": [
              "array([[ 1,  2,  7],\n",
              "       [ 2,  3, 11],\n",
              "       [ 3,  5, 13]])"
            ]
          },
          "metadata": {},
          "execution_count": 32
        }
      ]
    },
    {
      "cell_type": "code",
      "source": [
        "# np.linalg.inv(A)\n",
        "\n",
        "# B = np.array([[1, 2, 3], [-1, 0, -1], [3, 4, 7]])\n",
        "# np.linalg.inv(B)"
      ],
      "metadata": {
        "id": "2-0Pot7Ox1_l"
      },
      "execution_count": 44,
      "outputs": []
    },
    {
      "cell_type": "code",
      "execution_count": 45,
      "metadata": {
        "id": "MYMSIGkQZlKw"
      },
      "outputs": [],
      "source": [
        "# myVect = np.array(np.int16([1, 2, 3, 4]))\n",
        "\n",
        "# print(myVect + 1)\n",
        "# print(myVect - 1)\n",
        "# print(2 ** myVect)"
      ]
    },
    {
      "cell_type": "code",
      "source": [
        "A = np.arange(1, 100, 3)\n",
        "A.reshape(11, 3)"
      ],
      "metadata": {
        "colab": {
          "base_uri": "https://localhost:8080/"
        },
        "id": "W2oytnge0jAM",
        "outputId": "2b248868-788c-406c-f276-4a752ed8ebc1"
      },
      "execution_count": 50,
      "outputs": [
        {
          "output_type": "execute_result",
          "data": {
            "text/plain": [
              "array([[ 1,  4,  7],\n",
              "       [10, 13, 16],\n",
              "       [19, 22, 25],\n",
              "       [28, 31, 34],\n",
              "       [37, 40, 43],\n",
              "       [46, 49, 52],\n",
              "       [55, 58, 61],\n",
              "       [64, 67, 70],\n",
              "       [73, 76, 79],\n",
              "       [82, 85, 88],\n",
              "       [91, 94, 97]])"
            ]
          },
          "metadata": {},
          "execution_count": 50
        }
      ]
    },
    {
      "cell_type": "code",
      "execution_count": null,
      "metadata": {
        "id": "c-PAwduAZlKx",
        "outputId": "43d4ad09-5810-49ef-b0ec-f119d9bbb999"
      },
      "outputs": [
        {
          "name": "stdout",
          "output_type": "stream",
          "text": [
            "[False  True False  True]\n",
            "[ True False  True False]\n"
          ]
        }
      ],
      "source": [
        "a = np.array([1, 2, 3, 4])\n",
        "b = np.array([2, 2, 4, 4])\n",
        "\n",
        "print(a == b)\n",
        "print(a < b)"
      ]
    },
    {
      "cell_type": "code",
      "execution_count": null,
      "metadata": {
        "id": "1V6js854ZlKx",
        "outputId": "7f2849bd-3bee-48ac-f0c2-c5080133b53f"
      },
      "outputs": [
        {
          "name": "stdout",
          "output_type": "stream",
          "text": [
            "[ True  True  True False]\n",
            "[ True False False False]\n",
            "[False  True False  True]\n",
            "[False  True  True False]\n"
          ]
        }
      ],
      "source": [
        "a = np.array([True, False, True, False])\n",
        "b = np.array([True, True, False, False])\n",
        "\n",
        "print(np.logical_or(a, b))\n",
        "print(np.logical_and(a, b))\n",
        "print(np.logical_not(a))\n",
        "print(np.logical_xor(a, b))"
      ]
    },
    {
      "cell_type": "markdown",
      "metadata": {
        "id": "6umP5Lx7ZlKx"
      },
      "source": [
        "## Performing vector multiplication"
      ]
    },
    {
      "cell_type": "code",
      "execution_count": null,
      "metadata": {
        "id": "fliRw1HMZlKx",
        "outputId": "35091c1f-8cf6-48b5-9e27-0922170cbcf7"
      },
      "outputs": [
        {
          "name": "stdout",
          "output_type": "stream",
          "text": [
            "[ 1  4  9 16]\n",
            "[ 1  4  9 16]\n"
          ]
        }
      ],
      "source": [
        "print(myVect * myVect)\n",
        "print(np.multiply(myVect, myVect))"
      ]
    },
    {
      "cell_type": "code",
      "execution_count": null,
      "metadata": {
        "id": "1TbBtLLdZlKx",
        "outputId": "6fcdcbbb-1efa-40e0-c71b-c0a59a274d0c"
      },
      "outputs": [
        {
          "name": "stdout",
          "output_type": "stream",
          "text": [
            "30\n"
          ]
        }
      ],
      "source": [
        "print(myVect.dot(myVect))"
      ]
    },
    {
      "cell_type": "markdown",
      "metadata": {
        "id": "J-WkDjClZlKy"
      },
      "source": [
        "## Understanding basic operations"
      ]
    },
    {
      "cell_type": "code",
      "execution_count": null,
      "metadata": {
        "id": "fwfWXcr5ZlKy",
        "outputId": "b4d9ccba-15e3-4518-eb75-39577a9c1650"
      },
      "outputs": [
        {
          "name": "stdout",
          "output_type": "stream",
          "text": [
            "[[ 0  1]\n",
            " [ 1 -1]]\n"
          ]
        }
      ],
      "source": [
        "A = np.array([[1, 1], [1, 0]])\n",
        "B = np.array([[1, 0], [0, 1]])\n",
        "C = A - B\n",
        "\n",
        "print(C)"
      ]
    },
    {
      "cell_type": "code",
      "execution_count": null,
      "metadata": {
        "id": "skIWGUMNZlKy",
        "outputId": "0402254e-88c1-4ce7-8a2f-8563a5099241"
      },
      "outputs": [
        {
          "name": "stdout",
          "output_type": "stream",
          "text": [
            "[[ 0 -2]\n",
            " [-2  2]]\n"
          ]
        }
      ],
      "source": [
        "print(C * -2)"
      ]
    },
    {
      "cell_type": "markdown",
      "metadata": {
        "id": "E1H1ktDrZlKy"
      },
      "source": [
        "## Performing matrix multiplication"
      ]
    },
    {
      "cell_type": "code",
      "execution_count": null,
      "metadata": {
        "id": "P8y4IclyZlKy",
        "outputId": "7e64fc32-4055-4380-869f-6b3146db242a"
      },
      "outputs": [
        {
          "name": "stdout",
          "output_type": "stream",
          "text": [
            "[ 2 -2  3]\n"
          ]
        }
      ],
      "source": [
        "X = np.array([[4, 5], [2, 4], [3, 3]])\n",
        "b = [3, -2]\n",
        "\n",
        "print(np.dot(X, b))"
      ]
    },
    {
      "cell_type": "code",
      "execution_count": null,
      "metadata": {
        "id": "WEYkDmNAZlKy",
        "outputId": "92e36fbd-b0ac-4867-b8b9-a9f0f3f85cf4"
      },
      "outputs": [
        {
          "name": "stdout",
          "output_type": "stream",
          "text": [
            "[[ 2 17]\n",
            " [-2 16]\n",
            " [ 3  9]]\n"
          ]
        }
      ],
      "source": [
        "B = np.array([[3, -2], [-2, 5]])\n",
        "\n",
        "print(np.dot(X, B))"
      ]
    },
    {
      "cell_type": "markdown",
      "metadata": {
        "id": "4MlSQ3yCZlKy"
      },
      "source": [
        "## Glancing at advanced matrix operations"
      ]
    },
    {
      "cell_type": "code",
      "execution_count": null,
      "metadata": {
        "id": "5T_oriWKZlKy",
        "outputId": "064c60ed-4daf-4fb3-941f-2d4aa4db2765"
      },
      "outputs": [
        {
          "name": "stdout",
          "output_type": "stream",
          "text": [
            "[[1 4 7]\n",
            " [2 5 8]\n",
            " [3 6 9]]\n"
          ]
        }
      ],
      "source": [
        "A = np.array([[1, 2, 3], [4, 5, 6], [7, 8, 9]])\n",
        "\n",
        "print(A.transpose())"
      ]
    },
    {
      "cell_type": "code",
      "execution_count": null,
      "metadata": {
        "id": "PujDhrYDZlKz",
        "outputId": "0641e387-9a1f-4eeb-da91-4b00030c2a17"
      },
      "outputs": [
        {
          "name": "stdout",
          "output_type": "stream",
          "text": [
            "[[-4.50359963e+15  9.00719925e+15 -4.50359963e+15]\n",
            " [ 9.00719925e+15 -1.80143985e+16  9.00719925e+15]\n",
            " [-4.50359963e+15  9.00719925e+15 -4.50359963e+15]]\n"
          ]
        }
      ],
      "source": [
        " print(np.linalg.inv(A))"
      ]
    },
    {
      "cell_type": "markdown",
      "metadata": {
        "id": "VSd9zjSkZlKz"
      },
      "source": [
        "## Using vectorization effectively"
      ]
    },
    {
      "cell_type": "code",
      "execution_count": 38,
      "metadata": {
        "colab": {
          "base_uri": "https://localhost:8080/"
        },
        "id": "pALJg4dvZlKz",
        "outputId": "784f436a-98c5-4f06-8488-6b86d84a9e95"
      },
      "outputs": [
        {
          "output_type": "stream",
          "name": "stdout",
          "text": [
            "[44 21 37]\n",
            "(3,)\n"
          ]
        }
      ],
      "source": [
        "y = np.array([44,21,37])\n",
        "print (y)\n",
        "print (y.shape)"
      ]
    },
    {
      "cell_type": "code",
      "execution_count": 39,
      "metadata": {
        "colab": {
          "base_uri": "https://localhost:8080/"
        },
        "id": "rUwetJ-QZlKz",
        "outputId": "05cf7046-91a3-4e82-b5c7-059e3280f1a2"
      },
      "outputs": [
        {
          "output_type": "stream",
          "name": "stdout",
          "text": [
            "[[  1.1   1.  545.    1. ]\n",
            " [  4.6   0.  345.    2. ]\n",
            " [  7.2   1.  754.    3. ]]\n"
          ]
        }
      ],
      "source": [
        "X = np.array([[1.1, 1, 545, 1],[4.6, 0, 345, 2],\n",
        "              [7.2, 1, 754, 3]])\n",
        "print (X)"
      ]
    },
    {
      "cell_type": "code",
      "execution_count": 42,
      "metadata": {
        "colab": {
          "base_uri": "https://localhost:8080/"
        },
        "id": "KkxA0jgiZlKz",
        "outputId": "61dbcb9a-734b-4585-e36c-30b15b951ef2"
      },
      "outputs": [
        {
          "output_type": "stream",
          "name": "stdout",
          "text": [
            "[[  1.1   1.  545.    1. ]\n",
            " [  4.6   0.  345.    2. ]\n",
            " [  7.2   1.  754.    3. ]]\n"
          ]
        }
      ],
      "source": [
        "X = np.array([1.1, 1, 545, 1, 4.6, 0, 345, 2,\n",
        "              7.2, 1, 754, 3]).reshape(3,4)\n",
        "print(X)"
      ]
    },
    {
      "cell_type": "markdown",
      "metadata": {
        "id": "osKoLCWzZlKz"
      },
      "source": [
        "# Exploring the World of Probabilities"
      ]
    },
    {
      "cell_type": "markdown",
      "metadata": {
        "id": "Am20hkXJZlKz"
      },
      "source": [
        "## Operating on probabilities"
      ]
    },
    {
      "cell_type": "code",
      "execution_count": null,
      "metadata": {
        "id": "EoG3iWQ3ZlKz",
        "outputId": "239310ce-9f18-4459-c023-c2d19058a2de"
      },
      "outputs": [
        {
          "name": "stdout",
          "output_type": "stream",
          "text": [
            "0.027777777777777776\n"
          ]
        }
      ],
      "source": [
        "Sixes = (1/6) * (1/6)\n",
        "print(Sixes)"
      ]
    },
    {
      "cell_type": "code",
      "execution_count": null,
      "metadata": {
        "id": "-TZGopzqZlKz",
        "outputId": "68e0b732-3307-47af-9b48-d3ce93f2c753"
      },
      "outputs": [
        {
          "name": "stdout",
          "output_type": "stream",
          "text": [
            "0.1388888888888889\n"
          ]
        }
      ],
      "source": [
        "SixAndOther = (1/6) * (1 - (1/6))\n",
        "print(SixAndOther)"
      ]
    },
    {
      "cell_type": "code",
      "execution_count": null,
      "metadata": {
        "id": "mpvLFCG-ZlKz",
        "outputId": "3a048af0-a866-4177-d5e0-b0330bf5c82d"
      },
      "outputs": [
        {
          "name": "stdout",
          "output_type": "stream",
          "text": [
            "0.1388888888888889\n"
          ]
        }
      ],
      "source": [
        "OtherAndSix = (1/6) * (1 - (1/6))\n",
        "print(OtherAndSix)"
      ]
    },
    {
      "cell_type": "code",
      "execution_count": null,
      "metadata": {
        "id": "mnsZ3u3GZlKz",
        "outputId": "30879319-78d4-44b1-b272-3edd635702ce"
      },
      "outputs": [
        {
          "name": "stdout",
          "output_type": "stream",
          "text": [
            "0.3333333333333333\n"
          ]
        }
      ],
      "source": [
        "OneSix = (1/6) + (1/6)\n",
        "print(OneSix)"
      ]
    },
    {
      "cell_type": "markdown",
      "metadata": {
        "id": "zEv5ZW4RZlKz"
      },
      "source": [
        "## Conditioning chance by Bayes’ theorem"
      ]
    },
    {
      "cell_type": "code",
      "execution_count": null,
      "metadata": {
        "id": "lqydJMnLZlKz",
        "outputId": "60137f15-ae85-4faf-b450-1e0407ef1d12"
      },
      "outputs": [
        {
          "name": "stdout",
          "output_type": "stream",
          "text": [
            "0.8571428571428572\n"
          ]
        }
      ],
      "source": [
        "Female = 0.6 * 0.5 / 0.35\n",
        "print(Female)"
      ]
    },
    {
      "cell_type": "code",
      "execution_count": null,
      "metadata": {
        "id": "CGsianp5ZlKz",
        "outputId": "4b82d2e1-179a-451b-a592-51a6f1afc723"
      },
      "outputs": [
        {
          "name": "stdout",
          "output_type": "stream",
          "text": [
            "0.5\n"
          ]
        }
      ],
      "source": [
        "IsIll = 0.99 * 0.01 / ((0.01 * 0.99) + (0.99 * 0.01))\n",
        "print(IsIll)"
      ]
    },
    {
      "cell_type": "code",
      "execution_count": null,
      "metadata": {
        "id": "4RO73AGGZlK0"
      },
      "outputs": [],
      "source": []
    }
  ],
  "metadata": {
    "kernelspec": {
      "display_name": "Python 3",
      "language": "python",
      "name": "python3"
    },
    "language_info": {
      "codemirror_mode": {
        "name": "ipython",
        "version": 3
      },
      "file_extension": ".py",
      "mimetype": "text/x-python",
      "name": "python",
      "nbconvert_exporter": "python",
      "pygments_lexer": "ipython3",
      "version": "3.7.8"
    },
    "colab": {
      "provenance": [],
      "include_colab_link": true
    }
  },
  "nbformat": 4,
  "nbformat_minor": 0
}